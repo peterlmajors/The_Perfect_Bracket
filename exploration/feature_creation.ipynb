{
 "cells": [
  {
   "cell_type": "code",
   "execution_count": null,
   "metadata": {},
   "outputs": [],
   "source": [
    "#Create a team 1 win column to determine which rows actually have them winning\n",
    "pdf['team1_win'] = (pdf['team1_score']>pdf['team2_score']).astype(int)\n",
    "\n",
    "# Random sample of rows with columns in training columns list\n",
    "pdf_1 = pdf.sample(frac=.5, random_state=15)[training_columns]\n",
    "pdf_1 = pdf_1.reset_index(drop=True)\n",
    "\n",
    "#Make the remainder of rows into the second df\n",
    "pdf_2 = pdf[~pdf.index.isin(pdf_1.index)][training_columns].reset_index(drop=True)\n",
    "\n",
    "#In The second df, inverve the odds and seed differential, as well as make team 1 the loser\n",
    "pdf_2['team1_log5'] = 1-pdf_2['team1_log5']\n",
    "pdf_2['seed_diff'] = pdf_2['seed_diff']*-1\n",
    "pdf_2['team1_win'] = 0\n",
    "\n",
    "#Remake The Game Id in the second df\n",
    "pdf_2['game_id'] = (pdf_2['game_id'].str.split('-', expand=True)[0] + '-' + pdf_2['game_id'].str.split('-', expand=True)[2] + '-' + pdf_2['game_id'].str.split('-', expand=True)[1])\n",
    "\n",
    "#Limit Second df to the columns of interest\n",
    "pdf_2.columns = training_columns\n",
    "\n",
    "#Combine the two dfs and perform a train test split\n",
    "#Create pdf_adj, which is now balanced when team 1 wins\n",
    "pdf_adj = pd.concat([pdf_2, pdf_1]).reset_index(drop=True)\n",
    "\n",
    "train, test = train_test_split(pdf_adj, train_size=.7)\n",
    "train = train.reset_index(drop=True)\n",
    "test = test.reset_index(drop=True)\n",
    "\n",
    "#Filter 2019 Training Data\n",
    "train = train[train['season'] != 2019]\n",
    "test = test[test['season'] != 2019]"
   ]
  },
  {
   "cell_type": "code",
   "execution_count": null,
   "metadata": {},
   "outputs": [],
   "source": [
    "train, test = train_test_split(pdf_adj, train_size=.7)\n",
    "train = train.reset_index(drop=True)\n",
    "test = test.reset_index(drop=True)\n",
    "\n",
    "#Filter 2019 Training Data\n",
    "train = train[train['season'] != 2019]\n",
    "test = test[test['season'] != 2019]"
   ]
  },
  {
   "cell_type": "code",
   "execution_count": null,
   "metadata": {},
   "outputs": [],
   "source": [
    "#Split Training And Test Sets By Columns\n",
    "X_train = train[df_features]\n",
    "y_train = train[df_target]\n",
    "X_test = test[df_features]\n",
    "y_test = test[df_target]\n",
    "\n",
    "#Check For Correct Shape\n",
    "print(X_train.shape, y_train.shape, X_test.shape, y_test.shape)"
   ]
  }
 ],
 "metadata": {
  "language_info": {
   "name": "python"
  }
 },
 "nbformat": 4,
 "nbformat_minor": 2
}
